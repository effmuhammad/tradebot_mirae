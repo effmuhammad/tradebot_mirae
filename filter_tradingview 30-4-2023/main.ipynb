{
 "cells": [
  {
   "cell_type": "code",
   "execution_count": 9,
   "metadata": {},
   "outputs": [
    {
     "data": {
      "text/plain": [
       "['IKAND\\n',\n",
       " 'ERA MANDIRI CEMERLANG TBK\\n',\n",
       " '61IDR\\tâˆ’6.15%\\tâˆ’4IDR\\tNeutral\\t21.974M\\t1.34B\\t54.167BIDR\\t24.32\\t2.51IDR\\t141\\tConsumer Non-Durables\\n',\n",
       " 'B\\n',\n",
       " 'BAPAD\\n']"
      ]
     },
     "execution_count": 9,
     "metadata": {},
     "output_type": "execute_result"
    }
   ],
   "source": [
    "with open(\"input2.txt\") as file_in:\n",
    "    lines = []\n",
    "    for line in file_in:\n",
    "        lines.append(line)\n",
    "lines[:5]"
   ]
  },
  {
   "cell_type": "code",
   "execution_count": 10,
   "metadata": {},
   "outputs": [
    {
     "data": {
      "text/plain": [
       "['IKAND\\n', 'BAPAD\\n', 'NASID\\n', 'AYLSD\\n', 'LUCKD\\n']"
      ]
     },
     "execution_count": 10,
     "metadata": {},
     "output_type": "execute_result"
    }
   ],
   "source": [
    "kode_lines = []\n",
    "for line in lines:\n",
    "    if len(line) == 6:\n",
    "        kode_lines.append(line)\n",
    "kode_lines[:5]"
   ]
  },
  {
   "cell_type": "code",
   "execution_count": 11,
   "metadata": {},
   "outputs": [
    {
     "data": {
      "text/plain": [
       "['IKAN', 'BAPA', 'NASI', 'AYLS', 'LUCK']"
      ]
     },
     "execution_count": 11,
     "metadata": {},
     "output_type": "execute_result"
    }
   ],
   "source": [
    "kode = []\n",
    "for kode_line in kode_lines:\n",
    "    kode_text = kode_line.replace('D\\n','')\n",
    "    kode.append(kode_text)\n",
    "kode[:5]"
   ]
  },
  {
   "cell_type": "code",
   "execution_count": 12,
   "metadata": {},
   "outputs": [
    {
     "data": {
      "text/plain": [
       "185"
      ]
     },
     "execution_count": 12,
     "metadata": {},
     "output_type": "execute_result"
    }
   ],
   "source": [
    "len(kode)"
   ]
  },
  {
   "cell_type": "code",
   "execution_count": 13,
   "metadata": {},
   "outputs": [],
   "source": [
    "import pandas as pd\n",
    "\n",
    "df = pd.DataFrame(kode, columns=[\"Daftar Saham\"])\n",
    "df.to_csv('daftar_saham2.csv', index=False)"
   ]
  },
  {
   "cell_type": "code",
   "execution_count": null,
   "metadata": {},
   "outputs": [],
   "source": []
  }
 ],
 "metadata": {
  "kernelspec": {
   "display_name": "Python 3",
   "language": "python",
   "name": "python3"
  },
  "language_info": {
   "codemirror_mode": {
    "name": "ipython",
    "version": 3
   },
   "file_extension": ".py",
   "mimetype": "text/x-python",
   "name": "python",
   "nbconvert_exporter": "python",
   "pygments_lexer": "ipython3",
   "version": "3.8.0"
  },
  "orig_nbformat": 4
 },
 "nbformat": 4,
 "nbformat_minor": 2
}
