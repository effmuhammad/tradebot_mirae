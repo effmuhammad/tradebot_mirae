{
 "cells": [
  {
   "cell_type": "code",
   "execution_count": 1,
   "metadata": {},
   "outputs": [],
   "source": [
    "import csv\n",
    "import re"
   ]
  },
  {
   "cell_type": "code",
   "execution_count": 2,
   "metadata": {},
   "outputs": [],
   "source": [
    "\n",
    "input = \"\"\"\n",
    "BBCA Last: 8875; Chg: 0 (0.00%); Score: 100%\n",
    "NATO Last: 166; Chg: -1 (-0.60%); Score: 100%\n",
    "*)OASA Last: 137; Chg: -4 (-2.84%); Score: 100%\n",
    "TUGU Last: 1120; Chg: 25 (2.28%); Score: 100%\n",
    "*)ASII Last: 5550; Chg: -75 (-1.33%); Score: 100%\n",
    "*)MARK Last: 530; Chg: -20 (-3.64%); Score: 100%\n",
    "*)ENRG Last: 230; Chg: 16 (7.48%); Score: 100%\n",
    "*)IMPC Last: 360; Chg: 2 (0.56%); Score: 100%\n",
    "BBNI Last: 5175; Chg: -100 (-1.90%); Score: 100%\n",
    "MGRO Last: 610; Chg: 0 (0.00%); Score: 100%\n",
    "*)ABMM Last: 3420; Chg: 50 (1.48%); Score: 100%\n",
    "APIC Last: 1130; Chg: 0 (0.00%); Score: 100%\n",
    "*)ERAA Last: 354; Chg: -8 (-2.21%); Score: 100%\n",
    "*)PTBA Last: 2440; Chg: 0 (0.00%); Score: 100%\n",
    "*)TLKM Last: 3770; Chg: 90 (2.45%); Score: 100%\n",
    "*)SMDR Last: 294; Chg: -2 (-0.68%); Score: 100%\n",
    "*)WTON Last: 131; Chg: -1 (-0.76%); Score: 100%\n",
    "*)HEXA Last: 5400; Chg: -25 (-0.46%); Score: 100%\n",
    "*)TOBA Last: 250; Chg: 6 (2.46%); Score: 100%\n",
    "*)WIFI Last: 166; Chg: 0 (0.00%); Score: 100%\n",
    "*)PTMP Last: 154; Chg: 0 (0.00%); Score: 100%\n",
    "*)SCMA Last: 159; Chg: -2 (-1.24%); Score: 100%\n",
    "*)MTMH Last: 1335; Chg: 25 (1.91%); Score: 100%\n",
    "*)ESSA Last: 585; Chg: 10 (1.74%); Score: 100%\n",
    "*)MPMX Last: 1035; Chg: -5 (-0.48%); Score: 100%\n",
    "EMTK Last: 635; Chg: 5 (0.79%); Score: 100%\n",
    "*)TNCA Last: 218; Chg: -6 (-2.68%); Score: 100%\n",
    "AMRT Last: 2870; Chg: 10 (0.35%); Score: 100%\n",
    "*)ASRI Last: 169; Chg: -2 (-1.17%); Score: 100%\n",
    "BABP Last: 63; Chg: -2 (-3.08%); Score: 100%\n",
    "SRTG Last: 1630; Chg: -5 (-0.31%); Score: 100%\n",
    "*)INCO Last: 4380; Chg: -140 (-3.10%); Score: 100%\n",
    "IMAS Last: 1370; Chg: -5 (-0.36%); Score: 100%\n",
    "KING Last: 113; Chg: -1 (-0.88%); Score: 100%\n",
    "*)BEST Last: 142; Chg: -1 (-0.70%); Score: 100%\n",
    "*)SMRA Last: 615; Chg: -10 (-1.60%); Score: 100%\n",
    "*)BSDE Last: 1060; Chg: -15 (-1.40%); Score: 100%\n",
    "*)AVIA Last: 484; Chg: -6 (-1.22%); Score: 100%\n",
    "*)RMKE Last: 630; Chg: -10 (-1.56%); Score: 100%\n",
    "*)HAIS Last: 204; Chg: -8 (-3.77%); Score: 100%\n",
    "PNLF Last: 270; Chg: -8 (-2.88%); Score: 100%\n",
    "*)AKRA Last: 1430; Chg: -10 (-0.69%); Score: 100%\n",
    "*)TAPG Last: 550; Chg: -10 (-1.79%); Score: 100%\n",
    "*)KLBF Last: 1605; Chg: -20 (-1.23%); Score: 100%\n",
    "*)INDF Last: 6375; Chg: -25 (-0.39%); Score: 100%\n",
    "ASSA Last: 895; Chg: -5 (-0.56%); Score: 100%\n",
    "\"\"\"\n"
   ]
  },
  {
   "cell_type": "code",
   "execution_count": 3,
   "metadata": {},
   "outputs": [
    {
     "name": "stdout",
     "output_type": "stream",
     "text": [
      "['NATO Last: 166; Chg: -1 (-0.60%); Score: 100%', '*)OASA Last: 137; Chg: -4 (-2.84%); Score: 100%', 'TUGU Last: 1120; Chg: 25 (2.28%); Score: 100%', '*)MARK Last: 530; Chg: -20 (-3.64%); Score: 100%', '*)ENRG Last: 230; Chg: 16 (7.48%); Score: 100%', '*)IMPC Last: 360; Chg: 2 (0.56%); Score: 100%', 'MGRO Last: 610; Chg: 0 (0.00%); Score: 100%', 'APIC Last: 1130; Chg: 0 (0.00%); Score: 100%', '*)ERAA Last: 354; Chg: -8 (-2.21%); Score: 100%', '*)PTBA Last: 2440; Chg: 0 (0.00%); Score: 100%', '*)SMDR Last: 294; Chg: -2 (-0.68%); Score: 100%', '*)WTON Last: 131; Chg: -1 (-0.76%); Score: 100%', '*)TOBA Last: 250; Chg: 6 (2.46%); Score: 100%', '*)WIFI Last: 166; Chg: 0 (0.00%); Score: 100%', '*)PTMP Last: 154; Chg: 0 (0.00%); Score: 100%', '*)SCMA Last: 159; Chg: -2 (-1.24%); Score: 100%', '*)MTMH Last: 1335; Chg: 25 (1.91%); Score: 100%', '*)ESSA Last: 585; Chg: 10 (1.74%); Score: 100%', '*)MPMX Last: 1035; Chg: -5 (-0.48%); Score: 100%', 'EMTK Last: 635; Chg: 5 (0.79%); Score: 100%', '*)TNCA Last: 218; Chg: -6 (-2.68%); Score: 100%', '*)ASRI Last: 169; Chg: -2 (-1.17%); Score: 100%', 'SRTG Last: 1630; Chg: -5 (-0.31%); Score: 100%', 'IMAS Last: 1370; Chg: -5 (-0.36%); Score: 100%', 'KING Last: 113; Chg: -1 (-0.88%); Score: 100%', '*)BEST Last: 142; Chg: -1 (-0.70%); Score: 100%', '*)SMRA Last: 615; Chg: -10 (-1.60%); Score: 100%', '*)BSDE Last: 1060; Chg: -15 (-1.40%); Score: 100%', '*)AVIA Last: 484; Chg: -6 (-1.22%); Score: 100%', '*)RMKE Last: 630; Chg: -10 (-1.56%); Score: 100%', '*)HAIS Last: 204; Chg: -8 (-3.77%); Score: 100%', 'PNLF Last: 270; Chg: -8 (-2.88%); Score: 100%', '*)AKRA Last: 1430; Chg: -10 (-0.69%); Score: 100%', '*)TAPG Last: 550; Chg: -10 (-1.79%); Score: 100%', '*)KLBF Last: 1605; Chg: -20 (-1.23%); Score: 100%', 'ASSA Last: 895; Chg: -5 (-0.56%); Score: 100%']\n"
     ]
    }
   ],
   "source": [
    "list_data = input.split('\\n')\n",
    "min_price = 100\n",
    "max_price = 2500\n",
    "price_filtered = []\n",
    "\n",
    "for data in list_data:\n",
    "    try:\n",
    "        price = data.split(';')[0]\n",
    "        price = price.split(' ')[-1]\n",
    "        if int(price) >= min_price and int(price) <= max_price:\n",
    "            price_filtered.append(data)\n",
    "    except:\n",
    "        pass\n",
    "print(price_filtered)\n"
   ]
  },
  {
   "cell_type": "code",
   "execution_count": 4,
   "metadata": {},
   "outputs": [
    {
     "name": "stdout",
     "output_type": "stream",
     "text": [
      "['NATO', 'OASA', 'TUGU', 'MARK', 'ENRG', 'IMPC', 'MGRO', 'APIC', 'ERAA', 'PTBA', 'SMDR', 'WTON', 'TOBA', 'WIFI', 'PTMP', 'SCMA', 'MTMH', 'ESSA', 'MPMX', 'EMTK', 'TNCA', 'ASRI', 'SRTG', 'IMAS', 'KING', 'BEST', 'SMRA', 'BSDE', 'AVIA', 'RMKE', 'HAIS', 'PNLF', 'AKRA', 'TAPG', 'KLBF', 'ASSA']\n"
     ]
    }
   ],
   "source": [
    "stock_codes = [re.findall(r\"(.*?)\\sLast:\", line)[0].replace(\"*)\",\"\") for line in price_filtered]\n",
    "\n",
    "print(stock_codes)"
   ]
  },
  {
   "cell_type": "code",
   "execution_count": 5,
   "metadata": {},
   "outputs": [],
   "source": [
    "with open('mfqspike.csv', 'w', newline='') as file:\n",
    "    writer = csv.writer(file)\n",
    "    writer.writerow([\"Daftar Saham\"])\n",
    "    for code in stock_codes:\n",
    "        writer.writerow([code])"
   ]
  },
  {
   "cell_type": "code",
   "execution_count": null,
   "metadata": {},
   "outputs": [],
   "source": []
  },
  {
   "cell_type": "code",
   "execution_count": null,
   "metadata": {},
   "outputs": [],
   "source": []
  }
 ],
 "metadata": {
  "kernelspec": {
   "display_name": "Python 3",
   "language": "python",
   "name": "python3"
  },
  "language_info": {
   "codemirror_mode": {
    "name": "ipython",
    "version": 3
   },
   "file_extension": ".py",
   "mimetype": "text/x-python",
   "name": "python",
   "nbconvert_exporter": "python",
   "pygments_lexer": "ipython3",
   "version": "3.8.10"
  }
 },
 "nbformat": 4,
 "nbformat_minor": 2
}
