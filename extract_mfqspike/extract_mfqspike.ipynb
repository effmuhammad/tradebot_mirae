{
 "cells": [
  {
   "cell_type": "code",
   "execution_count": 1,
   "metadata": {},
   "outputs": [],
   "source": [
    "import csv\n",
    "import re"
   ]
  },
  {
   "cell_type": "code",
   "execution_count": 2,
   "metadata": {},
   "outputs": [],
   "source": [
    "\n",
    "mfqspike = \"\"\"\n",
    "*)DOOH Last: 77; Chg: -2 (-2.53%); Score: 100%\n",
    "*)SMCB Last: 1310; Chg: 5 (0.38%); Score: 100%\n",
    "NATO Last: 185; Chg: -3 (-1.60%); Score: 100%\n",
    "*)OASA Last: 137; Chg: -4 (-2.84%); Score: 100%\n",
    "TUGU Last: 1095; Chg: -15 (-1.35%); Score: 100%\n",
    "*)ASII Last: 5500; Chg: -25 (-0.45%); Score: 100%\n",
    "*)IMPC Last: 386; Chg: -4 (-1.03%); Score: 100%\n",
    "BBNI Last: 5600; Chg: -25 (-0.44%); Score: 100%\n",
    "MGRO Last: 630; Chg: 0 (0.00%); Score: 100%\n",
    "*)ERAA Last: 422; Chg: -2 (-0.47%); Score: 100%\n",
    "*)PTBA Last: 2700; Chg: -10 (-0.37%); Score: 100%\n",
    "*)TLKM Last: 4010; Chg: 10 (0.25%); Score: 100%\n",
    "*)LPKR Last: 85; Chg: -1 (-1.16%); Score: 100%\n",
    "*)TOBA Last: 282; Chg: -14 (-4.73%); Score: 100%\n",
    "*)WIFI Last: 149; Chg: 1 (0.68%); Score: 100%\n",
    "*)SCMA Last: 158; Chg: -3 (-1.86%); Score: 100%\n",
    "*)MTMH Last: 1315; Chg: -5 (-0.38%); Score: 100%\n",
    "*)ESSA Last: 590; Chg: 0 (0.00%); Score: 100%\n",
    "*)AISA Last: 132; Chg: 2 (1.54%); Score: 100%\n",
    "*)MPMX Last: 1060; Chg: 0 (0.00%); Score: 100%\n",
    "*)EMTK Last: 550; Chg: 5 (0.92%); Score: 100%\n",
    "AMRT Last: 2670; Chg: 40 (1.52%); Score: 100%\n",
    "*)SRTG Last: 1645; Chg: 5 (0.30%); Score: 100%\n",
    "*)BOGA Last: 1120; Chg: 10 (0.90%); Score: 100%\n",
    "*)INCO Last: 4150; Chg: 0 (0.00%); Score: 100%\n",
    "IMAS Last: 1525; Chg: -30 (-1.93%); Score: 100%\n",
    "KING Last: 152; Chg: 13 (9.35%); Score: 100%\n",
    "*)NCKL Last: 965; Chg: 10 (1.05%); Score: 100%\n",
    "*)SMRA Last: 590; Chg: -10 (-1.67%); Score: 100%\n",
    "MAYA Last: 224; Chg: -6 (-2.61%); Score: 100%\n",
    "*)BSDE Last: 1070; Chg: 0 (0.00%); Score: 100%\n",
    "*)AVIA Last: 540; Chg: 0 (0.00%); Score: 100%\n",
    "*)RMKE Last: 610; Chg: 5 (0.83%); Score: 100%\n",
    "*)HAIS Last: 244; Chg: -4 (-1.61%); Score: 100%\n",
    "PNLF Last: 278; Chg: 12 (4.51%); Score: 100%\n",
    "*)TAPG Last: 560; Chg: 10 (1.82%); Score: 100%\n",
    "*)KLBF Last: 1585; Chg: -5 (-0.31%); Score: 100%\n",
    "*)INDF Last: 6450; Chg: 0 (0.00%); Score: 100%\n",
    "ASSA Last: 815; Chg: -5 (-0.61%); Score: 100%\n",
    "\"\"\"\n"
   ]
  },
  {
   "cell_type": "code",
   "execution_count": 3,
   "metadata": {},
   "outputs": [],
   "source": [
    "mfqspike2 = \"\"\"\n",
    "AGRO Last: 312; Chg: -4 (-1.27%); Score: 100%\n",
    "MAYA Last: 224; Chg: -6 (-2.61%); Score: 100%\n",
    "RAJA Last: 1355; Chg: -5 (-0.37%); Score: 100%\n",
    "TBIG Last: 1940; Chg: -90 (-4.43%); Score: 100%\n",
    "*)TSPC Last: 2030; Chg: -50 (-2.40%); Score: 100%\n",
    "*)TYRE Last: 117; Chg: -4 (-3.31%); Score: 100%\n",
    "\"\"\""
   ]
  },
  {
   "cell_type": "code",
   "execution_count": 4,
   "metadata": {},
   "outputs": [],
   "source": [
    "mfqspike3 = \"\"\"\n",
    "*)SRAJ Last: 256; Chg: 2 (0.79%); Score: 100%\n",
    "TBIG Last: 1940; Chg: -90 (-4.43%); Score: 100%\n",
    "*)TSPC Last: 2030; Chg: -50 (-2.40%); Score: 100%\n",
    "\"\"\""
   ]
  },
  {
   "cell_type": "code",
   "execution_count": 5,
   "metadata": {},
   "outputs": [],
   "source": [
    "watchlist = \"\"\"\n",
    "TUGU\n",
    "----\n",
    "----\n",
    "OASA\n",
    "\"\"\""
   ]
  },
  {
   "cell_type": "code",
   "execution_count": 6,
   "metadata": {},
   "outputs": [],
   "source": [
    "def filter(input):\n",
    "    list_data = input.split('\\n')\n",
    "    min_price = 100\n",
    "    max_price = 2500\n",
    "    price_filtered = []\n",
    "\n",
    "    for data in list_data:\n",
    "        try:\n",
    "            price = data.split(';')[0]\n",
    "            price = price.split(' ')[-1]\n",
    "            if int(price) >= min_price and int(price) <= max_price:\n",
    "                price_filtered.append(data)\n",
    "        except:\n",
    "            pass\n",
    "    res = [re.findall(r\"(.*?)\\sLast:\", line)[0].replace(\"*)\",\"\") for line in price_filtered]\n",
    "    print(res)\n",
    "    return res"
   ]
  },
  {
   "cell_type": "code",
   "execution_count": 7,
   "metadata": {},
   "outputs": [
    {
     "name": "stdout",
     "output_type": "stream",
     "text": [
      "['SMCB', 'NATO', 'OASA', 'TUGU', 'IMPC', 'MGRO', 'ERAA', 'TOBA', 'WIFI', 'SCMA', 'MTMH', 'ESSA', 'AISA', 'MPMX', 'EMTK', 'SRTG', 'BOGA', 'IMAS', 'KING', 'NCKL', 'SMRA', 'MAYA', 'BSDE', 'AVIA', 'RMKE', 'HAIS', 'PNLF', 'TAPG', 'KLBF', 'ASSA']\n",
      "['AGRO', 'MAYA', 'RAJA', 'TBIG', 'TSPC', 'TYRE']\n",
      "['SRAJ', 'TBIG', 'TSPC']\n"
     ]
    }
   ],
   "source": [
    "filtered_mfqspike = filter(mfqspike)\n",
    "filtered_mfqspike2 = filter(mfqspike2)\n",
    "filtered_mfqspike3 = filter(mfqspike3)\n",
    "mfqspikelist = [code for code in filtered_mfqspike if code not in watchlist]\n",
    "mfqspike2list = [code for code in filtered_mfqspike2 if code not in watchlist and code not in mfqspikelist]\n",
    "mfqspike3list = [code for code in filtered_mfqspike3 if code not in watchlist and code not in [mfqspikelist, mfqspike2list]]\n",
    "watchlist = watchlist.split('\\n')\n",
    "watchlist = [x for x in watchlist if x != '']"
   ]
  },
  {
   "cell_type": "code",
   "execution_count": 8,
   "metadata": {},
   "outputs": [],
   "source": [
    "with open('mfqspike.csv', 'w', newline='') as file:\n",
    "    writer = csv.writer(file)\n",
    "    writer.writerow([\"Daftar Saham\"])\n",
    "    for code in watchlist:\n",
    "        writer.writerow([code])\n",
    "    writer.writerow(['---'])\n",
    "    for code in mfqspikelist:\n",
    "        writer.writerow([code])\n",
    "    writer.writerow(['---'])\n",
    "    for code in mfqspike2list:\n",
    "        writer.writerow([code])\n",
    "    writer.writerow(['---'])\n"
   ]
  },
  {
   "cell_type": "code",
   "execution_count": null,
   "metadata": {},
   "outputs": [],
   "source": []
  },
  {
   "cell_type": "code",
   "execution_count": null,
   "metadata": {},
   "outputs": [],
   "source": []
  }
 ],
 "metadata": {
  "kernelspec": {
   "display_name": "Python 3",
   "language": "python",
   "name": "python3"
  },
  "language_info": {
   "codemirror_mode": {
    "name": "ipython",
    "version": 3
   },
   "file_extension": ".py",
   "mimetype": "text/x-python",
   "name": "python",
   "nbconvert_exporter": "python",
   "pygments_lexer": "ipython3",
   "version": "3.8.10"
  }
 },
 "nbformat": 4,
 "nbformat_minor": 2
}
