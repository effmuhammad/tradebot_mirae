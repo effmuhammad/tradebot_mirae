{
 "cells": [
  {
   "cell_type": "code",
   "execution_count": 16,
   "metadata": {},
   "outputs": [],
   "source": [
    "import pandas as pd\n",
    "import math"
   ]
  },
  {
   "cell_type": "code",
   "execution_count": 20,
   "metadata": {},
   "outputs": [
    {
     "name": "stdout",
     "output_type": "stream",
     "text": [
      "hahah\n",
      "hahah\n"
     ]
    },
    {
     "data": {
      "text/html": [
       "<div>\n",
       "<style scoped>\n",
       "    .dataframe tbody tr th:only-of-type {\n",
       "        vertical-align: middle;\n",
       "    }\n",
       "\n",
       "    .dataframe tbody tr th {\n",
       "        vertical-align: top;\n",
       "    }\n",
       "\n",
       "    .dataframe thead th {\n",
       "        text-align: right;\n",
       "    }\n",
       "</style>\n",
       "<table border=\"1\" class=\"dataframe\">\n",
       "  <thead>\n",
       "    <tr style=\"text-align: right;\">\n",
       "      <th></th>\n",
       "      <th>tanggal</th>\n",
       "      <th>kode</th>\n",
       "      <th>buy</th>\n",
       "      <th>lot_buy</th>\n",
       "      <th>conf_buy</th>\n",
       "      <th>sl</th>\n",
       "      <th>tp1</th>\n",
       "      <th>lot_tp1</th>\n",
       "      <th>conf_tp1</th>\n",
       "      <th>tp2</th>\n",
       "      <th>lot_tp2</th>\n",
       "      <th>conf_tp2</th>\n",
       "    </tr>\n",
       "  </thead>\n",
       "  <tbody>\n",
       "    <tr>\n",
       "      <th>0</th>\n",
       "      <td>2023-04-23</td>\n",
       "      <td>ANTM</td>\n",
       "      <td>1000</td>\n",
       "      <td>1</td>\n",
       "      <td>NaN</td>\n",
       "      <td>900</td>\n",
       "      <td>1500</td>\n",
       "      <td>NaN</td>\n",
       "      <td>NaN</td>\n",
       "      <td>2000</td>\n",
       "      <td>NaN</td>\n",
       "      <td>NaN</td>\n",
       "    </tr>\n",
       "    <tr>\n",
       "      <th>1</th>\n",
       "      <td>2023-04-24</td>\n",
       "      <td>ANTM</td>\n",
       "      <td>1000</td>\n",
       "      <td>1</td>\n",
       "      <td>NaN</td>\n",
       "      <td>900</td>\n",
       "      <td>1500</td>\n",
       "      <td>NaN</td>\n",
       "      <td>NaN</td>\n",
       "      <td>2000</td>\n",
       "      <td>NaN</td>\n",
       "      <td>NaN</td>\n",
       "    </tr>\n",
       "  </tbody>\n",
       "</table>\n",
       "</div>"
      ],
      "text/plain": [
       "     tanggal  kode   buy  lot_buy  conf_buy   sl   tp1  lot_tp1  conf_tp1  \\\n",
       "0 2023-04-23  ANTM  1000        1       NaN  900  1500      NaN       NaN   \n",
       "1 2023-04-24  ANTM  1000        1       NaN  900  1500      NaN       NaN   \n",
       "\n",
       "    tp2  lot_tp2  conf_tp2  \n",
       "0  2000      NaN       NaN  \n",
       "1  2000      NaN       NaN  "
      ]
     },
     "execution_count": 20,
     "metadata": {},
     "output_type": "execute_result"
    }
   ],
   "source": [
    "order = pd.read_excel('data_order.xlsx')\n",
    "for index, row in order.iterrows():\n",
    "    if math.isnan(row['conf_buy']):\n",
    "        print('hahah')\n",
    "order"
   ]
  },
  {
   "cell_type": "code",
   "execution_count": null,
   "metadata": {},
   "outputs": [],
   "source": []
  }
 ],
 "metadata": {
  "kernelspec": {
   "display_name": "Python 3",
   "language": "python",
   "name": "python3"
  },
  "language_info": {
   "codemirror_mode": {
    "name": "ipython",
    "version": 3
   },
   "file_extension": ".py",
   "mimetype": "text/x-python",
   "name": "python",
   "nbconvert_exporter": "python",
   "pygments_lexer": "ipython3",
   "version": "3.8.0"
  },
  "orig_nbformat": 4
 },
 "nbformat": 4,
 "nbformat_minor": 2
}
